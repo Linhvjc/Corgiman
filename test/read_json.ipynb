{
 "cells": [
  {
   "cell_type": "code",
   "execution_count": 8,
   "metadata": {},
   "outputs": [
    {
     "name": "stdout",
     "output_type": "stream",
     "text": [
      "['hello', 'hey', 'hi', 'good day', 'Greetings', \"what's up?\", 'how is it going?', 'Hey there!', 'Morning!', 'How are things?', \"What's new?\", \"It's good to see you\", \"G'day!\", 'Howdy!', \"What's up?\", \"How's it going?\", \"What's happening?\", \"What's the story?\", 'Yo!', 'Hi there', 'Good morning', 'Good afternoon', 'Good evening', \"It's nice to meet you\", \"It's a pleasure to meet you\", 'Pleased to meet you']\n",
      "['cya', 'See you later', 'Goodbye', 'I am Leaving', 'Have a Good day', 'bye', 'cao', 'see ya', 'Have a good day', 'Farewell', 'Have a nice day', 'Have a good evening', 'Have a good night', 'Take care', 'Bye bye', 'Later!', 'Talk to you later', 'Have a good one', 'So long', 'All right then', 'Catch you later', 'Peace!', \"I'm out\", 'Smell you later']\n",
      "['how old', 'how old is DAC', 'what is your age', 'how old are you', 'age?']\n",
      "['what is your name', 'What is your full name?', 'what should I call you', 'Your name is ?', 'How do I call you?', 'whats your name?', 'who are you?', 'Can you tell me whats your name?']\n",
      "['What are we going to learn today?', 'What do we learn today?', 'learn what']\n",
      "['What time is it ?', 'Can you tell me the time now?', 'Do you have the time?', 'Have you got the time?']\n",
      "[\"I don't know here\", \"I'm not sure if I did this correctly\", 'Can you help me correct this lesson?']\n",
      "[]\n",
      "['How you could help me?', 'What you can do?', 'What help you provide?', 'How you can be helpful?', 'What support is offered']\n",
      "['teach me please', 'teach me some course', 'can you tutor me', 'give me some lectures', 'teach me now']\n",
      "['I want to learn the neural network', 'The neural network please!', 'How about neural network?', 'neural network', 'deep learning']\n",
      "['what is AI?', \"I don't understand about artificial intelligence\", 'I have no idea about AI']\n",
      "[\"What's the weather like today?\", \"What's the forecast?\"]\n",
      "['Thanks', 'Thank you', \"That's helpful\", 'Awesome, thanks', 'Thanks for helping me']\n"
     ]
    }
   ],
   "source": [
    "# Python program to read\n",
    "# json file\n",
    "  \n",
    "  \n",
    "import json\n",
    "  \n",
    "# Opening JSON file\n",
    "f = open('intents.json')\n",
    "  \n",
    "# returns JSON object as \n",
    "# a dictionary\n",
    "data = json.load(f)\n",
    "  \n",
    "# Iterating through the json\n",
    "# list\n",
    "for i in data['intents']:\n",
    "    print(i[\"patterns\"])\n",
    "# Closing file\n",
    "f.close()"
   ]
  }
 ],
 "metadata": {
  "kernelspec": {
   "display_name": "Python 3",
   "language": "python",
   "name": "python3"
  },
  "language_info": {
   "codemirror_mode": {
    "name": "ipython",
    "version": 3
   },
   "file_extension": ".py",
   "mimetype": "text/x-python",
   "name": "python",
   "nbconvert_exporter": "python",
   "pygments_lexer": "ipython3",
   "version": "3.8.0"
  },
  "orig_nbformat": 4,
  "vscode": {
   "interpreter": {
    "hash": "bd28539c79b8595bff478de9b4c5fdaa085a17ce875b7b632e25c2c6e60d29f4"
   }
  }
 },
 "nbformat": 4,
 "nbformat_minor": 2
}
